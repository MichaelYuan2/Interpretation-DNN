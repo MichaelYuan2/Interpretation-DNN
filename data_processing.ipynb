{
 "cells": [
  {
   "cell_type": "code",
   "execution_count": 6,
   "metadata": {},
   "outputs": [],
   "source": [
    "import pandas as pd\n",
    "import numpy as np\n",
    "from itertools import combinations\n",
    "import logging\n",
    "from math import sqrt, ceil\n",
    "from PIL import Image\n",
    "\n",
    "import random\n",
    "from tqdm import tqdm\n",
    "import seaborn as sns\n",
    "import matplotlib.pyplot as plt\n",
    "\n",
    "from create_dataset import array_to_image, array_to_grayscale_image\n",
    "from MCAgent import MCAgent"
   ]
  },
  {
   "cell_type": "code",
   "execution_count": 7,
   "metadata": {},
   "outputs": [],
   "source": [
    "def array_to_label(array):\n",
    "    label = np.full(169, \" \", dtype=\"S6\")\n",
    "    p = 0\n",
    "    for i in range(18):\n",
    "        for j in range(i+1, 18):\n",
    "            if array[j] != 0:\n",
    "                # print(label[p].dtype)\n",
    "                label[p] = \"X{}/X{}\".format(i+1, j+1)\n",
    "                p+=1\n",
    "    label = label.reshape(13, 13)\n",
    "    return label\n",
    "\n",
    "# array_to_label(np.ones(169)).reshape(-1)[:153]"
   ]
  },
  {
   "cell_type": "code",
   "execution_count": 8,
   "metadata": {},
   "outputs": [],
   "source": [
    "def preprocess_data(df):\n",
    "    index = []\n",
    "    logging.info('Preprocessing data...')\n",
    "    for i in tqdm(range(1, 8972)):\n",
    "        company_name = 'C_{}'.format(i)\n",
    "        company_data = df[df.company_name == company_name]\n",
    "        max = company_data.year.max()\n",
    "        min_year = max - 2\n",
    "        df = df.drop(df[(df.company_name == company_name) & (df.year < min_year)].index)\n",
    "    return df\n",
    "\n",
    "def load_data(TRAINPATH):\n",
    "    label_class = {'failed':0, 'alive':1}\n",
    "    df = pd.read_csv(TRAINPATH)\n",
    "    df = preprocess_data(df)\n",
    "    df = df.dropna()\n",
    "    df['status_label'] = df['status_label'].map(label_class)\n",
    "    return df"
   ]
  },
  {
   "cell_type": "code",
   "execution_count": 40,
   "metadata": {},
   "outputs": [],
   "source": [
    "def df_processing(df):\n",
    "    # Find the oldest year for each company\n",
    "    oldest_years = df.groupby('company_name')['year'].min()\n",
    "    \n",
    "    # Filter companies that are alive in the oldest year\n",
    "    df = pd.merge(df, oldest_years, on=['company_name', 'year' ], how='inner')\n",
    "    df = df[(df['status_label'] == 1)]\n",
    "    df = df.drop(columns=['company_name', 'status_label', 'year'])\n",
    "\n",
    "    return df"
   ]
  },
  {
   "cell_type": "code",
   "execution_count": 49,
   "metadata": {},
   "outputs": [
    {
     "name": "stderr",
     "output_type": "stream",
     "text": [
      "INFO:root:Preprocessing data...\n",
      "100%|██████████| 8971/8971 [01:38<00:00, 90.92it/s] \n"
     ]
    }
   ],
   "source": [
    "# image data path\n",
    "DATAPATH = r'american_bankruptcy.csv'\n",
    "\n",
    "logging.basicConfig(level=logging.INFO)\n",
    "df_raw = load_data(DATAPATH)\n",
    "df = df_processing(df_raw)\n",
    "# df.to_csv(\"Processed_df.csv\")"
   ]
  },
  {
   "cell_type": "code",
   "execution_count": 86,
   "metadata": {},
   "outputs": [],
   "source": [
    "# df = pd.read_csv(\"Processed_df.csv\")\n",
    "# Calculate the average based on the oldest year\n",
    "df_mean = pd.DataFrame(df.mean()).T\n",
    "data = df_mean.iloc[0].to_numpy()\n",
    "\n",
    "\n",
    "# print(df_raw.head())\n",
    "data_continue = df_raw[df_raw['status_label'] == 1].iloc[0].loc[\"X1\":].to_numpy()\n",
    "data_bankrupt= df_raw[df_raw['status_label'] == 0].iloc[1].loc[\"X1\":].to_numpy()\n",
    "# print(data_continue)\n",
    "# print(data_bankrupt)"
   ]
  },
  {
   "cell_type": "code",
   "execution_count": 74,
   "metadata": {},
   "outputs": [
    {
     "name": "stdout",
     "output_type": "stream",
     "text": [
      "        X1/X2       X1/X3       X1/X4       X1/X5       X1/X6       X1/X7  \\\n",
      "0  127.974701  127.971378  128.039677  127.893064  128.083950  127.970018   \n",
      "1  127.974701  127.971379  128.038583  127.893064  127.842501  127.970018   \n",
      "2  127.974701  127.971395  128.070126  127.893064  128.057677  127.970018   \n",
      "3  127.974702  127.971379  128.039546  127.893064  128.026072  127.970018   \n",
      "4  127.974701  127.971379  128.047162  127.893064  126.832552  127.970017   \n",
      "\n",
      "        X1/X8       X1/X9      X1/X10      X1/X11  ...     X14/X15  \\\n",
      "0  127.983894  127.931112  128.315168  127.893663  ...  128.001996   \n",
      "1  127.984295  127.932526  128.151722  127.893663  ...  127.971511   \n",
      "2  127.983429  127.931232  129.567653  127.931887  ...  127.970011   \n",
      "3  127.983597  127.939994  128.437550  127.893835  ...  127.878716   \n",
      "4  127.986866  127.929430  128.610604  127.893663  ...  127.952925   \n",
      "\n",
      "      X14/X16     X14/X17     X14/X18     X15/X16     X15/X17     X15/X18  \\\n",
      "0  127.955451  127.890869  127.832808  128.059476  128.093649  128.114856   \n",
      "1  127.955431  126.929832  127.833302  128.059183  128.073338  128.090479   \n",
      "2  127.955292  129.226029  127.801913  128.059227  128.059119  128.094754   \n",
      "3  127.958432  129.104830  128.550683  128.059196  128.076542  128.088833   \n",
      "4  127.955966  128.505644  127.914576  128.059199  128.071686  128.092674   \n",
      "\n",
      "      X16/X17     X16/X18     X17/X18  \n",
      "0  128.129259  128.072332  127.850959  \n",
      "1  127.710272  128.099202  127.919643  \n",
      "2  129.271918  128.050398  127.813304  \n",
      "3  127.517547  128.266699  128.092043  \n",
      "4  127.884832  128.041341  127.872795  \n",
      "\n",
      "[5 rows x 153 columns]\n"
     ]
    },
    {
     "name": "stderr",
     "output_type": "stream",
     "text": [
      "/var/folders/3r/s8rh15kn143b2zw160ckyhnw0000gn/T/ipykernel_3938/2456897106.py:10: PerformanceWarning: DataFrame is highly fragmented.  This is usually the result of calling `frame.insert` many times, which has poor performance.  Consider joining all columns at once using pd.concat(axis=1) instead. To get a de-fragmented frame, use `newframe = frame.copy()`\n",
      "  ratios_df[column] = df[\"X{}\".format(i+1)] / df[\"X{}\".format(j+1)]\n",
      "/var/folders/3r/s8rh15kn143b2zw160ckyhnw0000gn/T/ipykernel_3938/2456897106.py:10: PerformanceWarning: DataFrame is highly fragmented.  This is usually the result of calling `frame.insert` many times, which has poor performance.  Consider joining all columns at once using pd.concat(axis=1) instead. To get a de-fragmented frame, use `newframe = frame.copy()`\n",
      "  ratios_df[column] = df[\"X{}\".format(i+1)] / df[\"X{}\".format(j+1)]\n",
      "/var/folders/3r/s8rh15kn143b2zw160ckyhnw0000gn/T/ipykernel_3938/2456897106.py:10: PerformanceWarning: DataFrame is highly fragmented.  This is usually the result of calling `frame.insert` many times, which has poor performance.  Consider joining all columns at once using pd.concat(axis=1) instead. To get a de-fragmented frame, use `newframe = frame.copy()`\n",
      "  ratios_df[column] = df[\"X{}\".format(i+1)] / df[\"X{}\".format(j+1)]\n",
      "/var/folders/3r/s8rh15kn143b2zw160ckyhnw0000gn/T/ipykernel_3938/2456897106.py:10: PerformanceWarning: DataFrame is highly fragmented.  This is usually the result of calling `frame.insert` many times, which has poor performance.  Consider joining all columns at once using pd.concat(axis=1) instead. To get a de-fragmented frame, use `newframe = frame.copy()`\n",
      "  ratios_df[column] = df[\"X{}\".format(i+1)] / df[\"X{}\".format(j+1)]\n",
      "/var/folders/3r/s8rh15kn143b2zw160ckyhnw0000gn/T/ipykernel_3938/2456897106.py:10: PerformanceWarning: DataFrame is highly fragmented.  This is usually the result of calling `frame.insert` many times, which has poor performance.  Consider joining all columns at once using pd.concat(axis=1) instead. To get a de-fragmented frame, use `newframe = frame.copy()`\n",
      "  ratios_df[column] = df[\"X{}\".format(i+1)] / df[\"X{}\".format(j+1)]\n",
      "/var/folders/3r/s8rh15kn143b2zw160ckyhnw0000gn/T/ipykernel_3938/2456897106.py:10: PerformanceWarning: DataFrame is highly fragmented.  This is usually the result of calling `frame.insert` many times, which has poor performance.  Consider joining all columns at once using pd.concat(axis=1) instead. To get a de-fragmented frame, use `newframe = frame.copy()`\n",
      "  ratios_df[column] = df[\"X{}\".format(i+1)] / df[\"X{}\".format(j+1)]\n",
      "/var/folders/3r/s8rh15kn143b2zw160ckyhnw0000gn/T/ipykernel_3938/2456897106.py:10: PerformanceWarning: DataFrame is highly fragmented.  This is usually the result of calling `frame.insert` many times, which has poor performance.  Consider joining all columns at once using pd.concat(axis=1) instead. To get a de-fragmented frame, use `newframe = frame.copy()`\n",
      "  ratios_df[column] = df[\"X{}\".format(i+1)] / df[\"X{}\".format(j+1)]\n",
      "/var/folders/3r/s8rh15kn143b2zw160ckyhnw0000gn/T/ipykernel_3938/2456897106.py:10: PerformanceWarning: DataFrame is highly fragmented.  This is usually the result of calling `frame.insert` many times, which has poor performance.  Consider joining all columns at once using pd.concat(axis=1) instead. To get a de-fragmented frame, use `newframe = frame.copy()`\n",
      "  ratios_df[column] = df[\"X{}\".format(i+1)] / df[\"X{}\".format(j+1)]\n",
      "/var/folders/3r/s8rh15kn143b2zw160ckyhnw0000gn/T/ipykernel_3938/2456897106.py:10: PerformanceWarning: DataFrame is highly fragmented.  This is usually the result of calling `frame.insert` many times, which has poor performance.  Consider joining all columns at once using pd.concat(axis=1) instead. To get a de-fragmented frame, use `newframe = frame.copy()`\n",
      "  ratios_df[column] = df[\"X{}\".format(i+1)] / df[\"X{}\".format(j+1)]\n",
      "/var/folders/3r/s8rh15kn143b2zw160ckyhnw0000gn/T/ipykernel_3938/2456897106.py:10: PerformanceWarning: DataFrame is highly fragmented.  This is usually the result of calling `frame.insert` many times, which has poor performance.  Consider joining all columns at once using pd.concat(axis=1) instead. To get a de-fragmented frame, use `newframe = frame.copy()`\n",
      "  ratios_df[column] = df[\"X{}\".format(i+1)] / df[\"X{}\".format(j+1)]\n",
      "/var/folders/3r/s8rh15kn143b2zw160ckyhnw0000gn/T/ipykernel_3938/2456897106.py:10: PerformanceWarning: DataFrame is highly fragmented.  This is usually the result of calling `frame.insert` many times, which has poor performance.  Consider joining all columns at once using pd.concat(axis=1) instead. To get a de-fragmented frame, use `newframe = frame.copy()`\n",
      "  ratios_df[column] = df[\"X{}\".format(i+1)] / df[\"X{}\".format(j+1)]\n",
      "/var/folders/3r/s8rh15kn143b2zw160ckyhnw0000gn/T/ipykernel_3938/2456897106.py:10: PerformanceWarning: DataFrame is highly fragmented.  This is usually the result of calling `frame.insert` many times, which has poor performance.  Consider joining all columns at once using pd.concat(axis=1) instead. To get a de-fragmented frame, use `newframe = frame.copy()`\n",
      "  ratios_df[column] = df[\"X{}\".format(i+1)] / df[\"X{}\".format(j+1)]\n",
      "/var/folders/3r/s8rh15kn143b2zw160ckyhnw0000gn/T/ipykernel_3938/2456897106.py:10: PerformanceWarning: DataFrame is highly fragmented.  This is usually the result of calling `frame.insert` many times, which has poor performance.  Consider joining all columns at once using pd.concat(axis=1) instead. To get a de-fragmented frame, use `newframe = frame.copy()`\n",
      "  ratios_df[column] = df[\"X{}\".format(i+1)] / df[\"X{}\".format(j+1)]\n",
      "/var/folders/3r/s8rh15kn143b2zw160ckyhnw0000gn/T/ipykernel_3938/2456897106.py:10: PerformanceWarning: DataFrame is highly fragmented.  This is usually the result of calling `frame.insert` many times, which has poor performance.  Consider joining all columns at once using pd.concat(axis=1) instead. To get a de-fragmented frame, use `newframe = frame.copy()`\n",
      "  ratios_df[column] = df[\"X{}\".format(i+1)] / df[\"X{}\".format(j+1)]\n",
      "/var/folders/3r/s8rh15kn143b2zw160ckyhnw0000gn/T/ipykernel_3938/2456897106.py:10: PerformanceWarning: DataFrame is highly fragmented.  This is usually the result of calling `frame.insert` many times, which has poor performance.  Consider joining all columns at once using pd.concat(axis=1) instead. To get a de-fragmented frame, use `newframe = frame.copy()`\n",
      "  ratios_df[column] = df[\"X{}\".format(i+1)] / df[\"X{}\".format(j+1)]\n",
      "/var/folders/3r/s8rh15kn143b2zw160ckyhnw0000gn/T/ipykernel_3938/2456897106.py:10: PerformanceWarning: DataFrame is highly fragmented.  This is usually the result of calling `frame.insert` many times, which has poor performance.  Consider joining all columns at once using pd.concat(axis=1) instead. To get a de-fragmented frame, use `newframe = frame.copy()`\n",
      "  ratios_df[column] = df[\"X{}\".format(i+1)] / df[\"X{}\".format(j+1)]\n",
      "/var/folders/3r/s8rh15kn143b2zw160ckyhnw0000gn/T/ipykernel_3938/2456897106.py:10: PerformanceWarning: DataFrame is highly fragmented.  This is usually the result of calling `frame.insert` many times, which has poor performance.  Consider joining all columns at once using pd.concat(axis=1) instead. To get a de-fragmented frame, use `newframe = frame.copy()`\n",
      "  ratios_df[column] = df[\"X{}\".format(i+1)] / df[\"X{}\".format(j+1)]\n",
      "/var/folders/3r/s8rh15kn143b2zw160ckyhnw0000gn/T/ipykernel_3938/2456897106.py:10: PerformanceWarning: DataFrame is highly fragmented.  This is usually the result of calling `frame.insert` many times, which has poor performance.  Consider joining all columns at once using pd.concat(axis=1) instead. To get a de-fragmented frame, use `newframe = frame.copy()`\n",
      "  ratios_df[column] = df[\"X{}\".format(i+1)] / df[\"X{}\".format(j+1)]\n",
      "/var/folders/3r/s8rh15kn143b2zw160ckyhnw0000gn/T/ipykernel_3938/2456897106.py:10: PerformanceWarning: DataFrame is highly fragmented.  This is usually the result of calling `frame.insert` many times, which has poor performance.  Consider joining all columns at once using pd.concat(axis=1) instead. To get a de-fragmented frame, use `newframe = frame.copy()`\n",
      "  ratios_df[column] = df[\"X{}\".format(i+1)] / df[\"X{}\".format(j+1)]\n",
      "/var/folders/3r/s8rh15kn143b2zw160ckyhnw0000gn/T/ipykernel_3938/2456897106.py:10: PerformanceWarning: DataFrame is highly fragmented.  This is usually the result of calling `frame.insert` many times, which has poor performance.  Consider joining all columns at once using pd.concat(axis=1) instead. To get a de-fragmented frame, use `newframe = frame.copy()`\n",
      "  ratios_df[column] = df[\"X{}\".format(i+1)] / df[\"X{}\".format(j+1)]\n",
      "/var/folders/3r/s8rh15kn143b2zw160ckyhnw0000gn/T/ipykernel_3938/2456897106.py:10: PerformanceWarning: DataFrame is highly fragmented.  This is usually the result of calling `frame.insert` many times, which has poor performance.  Consider joining all columns at once using pd.concat(axis=1) instead. To get a de-fragmented frame, use `newframe = frame.copy()`\n",
      "  ratios_df[column] = df[\"X{}\".format(i+1)] / df[\"X{}\".format(j+1)]\n",
      "/var/folders/3r/s8rh15kn143b2zw160ckyhnw0000gn/T/ipykernel_3938/2456897106.py:10: PerformanceWarning: DataFrame is highly fragmented.  This is usually the result of calling `frame.insert` many times, which has poor performance.  Consider joining all columns at once using pd.concat(axis=1) instead. To get a de-fragmented frame, use `newframe = frame.copy()`\n",
      "  ratios_df[column] = df[\"X{}\".format(i+1)] / df[\"X{}\".format(j+1)]\n",
      "/var/folders/3r/s8rh15kn143b2zw160ckyhnw0000gn/T/ipykernel_3938/2456897106.py:10: PerformanceWarning: DataFrame is highly fragmented.  This is usually the result of calling `frame.insert` many times, which has poor performance.  Consider joining all columns at once using pd.concat(axis=1) instead. To get a de-fragmented frame, use `newframe = frame.copy()`\n",
      "  ratios_df[column] = df[\"X{}\".format(i+1)] / df[\"X{}\".format(j+1)]\n",
      "/var/folders/3r/s8rh15kn143b2zw160ckyhnw0000gn/T/ipykernel_3938/2456897106.py:10: PerformanceWarning: DataFrame is highly fragmented.  This is usually the result of calling `frame.insert` many times, which has poor performance.  Consider joining all columns at once using pd.concat(axis=1) instead. To get a de-fragmented frame, use `newframe = frame.copy()`\n",
      "  ratios_df[column] = df[\"X{}\".format(i+1)] / df[\"X{}\".format(j+1)]\n",
      "/var/folders/3r/s8rh15kn143b2zw160ckyhnw0000gn/T/ipykernel_3938/2456897106.py:10: PerformanceWarning: DataFrame is highly fragmented.  This is usually the result of calling `frame.insert` many times, which has poor performance.  Consider joining all columns at once using pd.concat(axis=1) instead. To get a de-fragmented frame, use `newframe = frame.copy()`\n",
      "  ratios_df[column] = df[\"X{}\".format(i+1)] / df[\"X{}\".format(j+1)]\n",
      "/var/folders/3r/s8rh15kn143b2zw160ckyhnw0000gn/T/ipykernel_3938/2456897106.py:10: PerformanceWarning: DataFrame is highly fragmented.  This is usually the result of calling `frame.insert` many times, which has poor performance.  Consider joining all columns at once using pd.concat(axis=1) instead. To get a de-fragmented frame, use `newframe = frame.copy()`\n",
      "  ratios_df[column] = df[\"X{}\".format(i+1)] / df[\"X{}\".format(j+1)]\n",
      "/var/folders/3r/s8rh15kn143b2zw160ckyhnw0000gn/T/ipykernel_3938/2456897106.py:10: PerformanceWarning: DataFrame is highly fragmented.  This is usually the result of calling `frame.insert` many times, which has poor performance.  Consider joining all columns at once using pd.concat(axis=1) instead. To get a de-fragmented frame, use `newframe = frame.copy()`\n",
      "  ratios_df[column] = df[\"X{}\".format(i+1)] / df[\"X{}\".format(j+1)]\n",
      "/var/folders/3r/s8rh15kn143b2zw160ckyhnw0000gn/T/ipykernel_3938/2456897106.py:10: PerformanceWarning: DataFrame is highly fragmented.  This is usually the result of calling `frame.insert` many times, which has poor performance.  Consider joining all columns at once using pd.concat(axis=1) instead. To get a de-fragmented frame, use `newframe = frame.copy()`\n",
      "  ratios_df[column] = df[\"X{}\".format(i+1)] / df[\"X{}\".format(j+1)]\n",
      "/var/folders/3r/s8rh15kn143b2zw160ckyhnw0000gn/T/ipykernel_3938/2456897106.py:10: PerformanceWarning: DataFrame is highly fragmented.  This is usually the result of calling `frame.insert` many times, which has poor performance.  Consider joining all columns at once using pd.concat(axis=1) instead. To get a de-fragmented frame, use `newframe = frame.copy()`\n",
      "  ratios_df[column] = df[\"X{}\".format(i+1)] / df[\"X{}\".format(j+1)]\n",
      "/var/folders/3r/s8rh15kn143b2zw160ckyhnw0000gn/T/ipykernel_3938/2456897106.py:10: PerformanceWarning: DataFrame is highly fragmented.  This is usually the result of calling `frame.insert` many times, which has poor performance.  Consider joining all columns at once using pd.concat(axis=1) instead. To get a de-fragmented frame, use `newframe = frame.copy()`\n",
      "  ratios_df[column] = df[\"X{}\".format(i+1)] / df[\"X{}\".format(j+1)]\n",
      "/var/folders/3r/s8rh15kn143b2zw160ckyhnw0000gn/T/ipykernel_3938/2456897106.py:10: PerformanceWarning: DataFrame is highly fragmented.  This is usually the result of calling `frame.insert` many times, which has poor performance.  Consider joining all columns at once using pd.concat(axis=1) instead. To get a de-fragmented frame, use `newframe = frame.copy()`\n",
      "  ratios_df[column] = df[\"X{}\".format(i+1)] / df[\"X{}\".format(j+1)]\n",
      "/var/folders/3r/s8rh15kn143b2zw160ckyhnw0000gn/T/ipykernel_3938/2456897106.py:10: PerformanceWarning: DataFrame is highly fragmented.  This is usually the result of calling `frame.insert` many times, which has poor performance.  Consider joining all columns at once using pd.concat(axis=1) instead. To get a de-fragmented frame, use `newframe = frame.copy()`\n",
      "  ratios_df[column] = df[\"X{}\".format(i+1)] / df[\"X{}\".format(j+1)]\n",
      "/var/folders/3r/s8rh15kn143b2zw160ckyhnw0000gn/T/ipykernel_3938/2456897106.py:10: PerformanceWarning: DataFrame is highly fragmented.  This is usually the result of calling `frame.insert` many times, which has poor performance.  Consider joining all columns at once using pd.concat(axis=1) instead. To get a de-fragmented frame, use `newframe = frame.copy()`\n",
      "  ratios_df[column] = df[\"X{}\".format(i+1)] / df[\"X{}\".format(j+1)]\n",
      "/var/folders/3r/s8rh15kn143b2zw160ckyhnw0000gn/T/ipykernel_3938/2456897106.py:10: PerformanceWarning: DataFrame is highly fragmented.  This is usually the result of calling `frame.insert` many times, which has poor performance.  Consider joining all columns at once using pd.concat(axis=1) instead. To get a de-fragmented frame, use `newframe = frame.copy()`\n",
      "  ratios_df[column] = df[\"X{}\".format(i+1)] / df[\"X{}\".format(j+1)]\n",
      "/var/folders/3r/s8rh15kn143b2zw160ckyhnw0000gn/T/ipykernel_3938/2456897106.py:10: PerformanceWarning: DataFrame is highly fragmented.  This is usually the result of calling `frame.insert` many times, which has poor performance.  Consider joining all columns at once using pd.concat(axis=1) instead. To get a de-fragmented frame, use `newframe = frame.copy()`\n",
      "  ratios_df[column] = df[\"X{}\".format(i+1)] / df[\"X{}\".format(j+1)]\n",
      "/var/folders/3r/s8rh15kn143b2zw160ckyhnw0000gn/T/ipykernel_3938/2456897106.py:10: PerformanceWarning: DataFrame is highly fragmented.  This is usually the result of calling `frame.insert` many times, which has poor performance.  Consider joining all columns at once using pd.concat(axis=1) instead. To get a de-fragmented frame, use `newframe = frame.copy()`\n",
      "  ratios_df[column] = df[\"X{}\".format(i+1)] / df[\"X{}\".format(j+1)]\n",
      "/var/folders/3r/s8rh15kn143b2zw160ckyhnw0000gn/T/ipykernel_3938/2456897106.py:10: PerformanceWarning: DataFrame is highly fragmented.  This is usually the result of calling `frame.insert` many times, which has poor performance.  Consider joining all columns at once using pd.concat(axis=1) instead. To get a de-fragmented frame, use `newframe = frame.copy()`\n",
      "  ratios_df[column] = df[\"X{}\".format(i+1)] / df[\"X{}\".format(j+1)]\n",
      "/var/folders/3r/s8rh15kn143b2zw160ckyhnw0000gn/T/ipykernel_3938/2456897106.py:10: PerformanceWarning: DataFrame is highly fragmented.  This is usually the result of calling `frame.insert` many times, which has poor performance.  Consider joining all columns at once using pd.concat(axis=1) instead. To get a de-fragmented frame, use `newframe = frame.copy()`\n",
      "  ratios_df[column] = df[\"X{}\".format(i+1)] / df[\"X{}\".format(j+1)]\n",
      "/var/folders/3r/s8rh15kn143b2zw160ckyhnw0000gn/T/ipykernel_3938/2456897106.py:10: PerformanceWarning: DataFrame is highly fragmented.  This is usually the result of calling `frame.insert` many times, which has poor performance.  Consider joining all columns at once using pd.concat(axis=1) instead. To get a de-fragmented frame, use `newframe = frame.copy()`\n",
      "  ratios_df[column] = df[\"X{}\".format(i+1)] / df[\"X{}\".format(j+1)]\n",
      "/var/folders/3r/s8rh15kn143b2zw160ckyhnw0000gn/T/ipykernel_3938/2456897106.py:10: PerformanceWarning: DataFrame is highly fragmented.  This is usually the result of calling `frame.insert` many times, which has poor performance.  Consider joining all columns at once using pd.concat(axis=1) instead. To get a de-fragmented frame, use `newframe = frame.copy()`\n",
      "  ratios_df[column] = df[\"X{}\".format(i+1)] / df[\"X{}\".format(j+1)]\n",
      "/var/folders/3r/s8rh15kn143b2zw160ckyhnw0000gn/T/ipykernel_3938/2456897106.py:10: PerformanceWarning: DataFrame is highly fragmented.  This is usually the result of calling `frame.insert` many times, which has poor performance.  Consider joining all columns at once using pd.concat(axis=1) instead. To get a de-fragmented frame, use `newframe = frame.copy()`\n",
      "  ratios_df[column] = df[\"X{}\".format(i+1)] / df[\"X{}\".format(j+1)]\n",
      "/var/folders/3r/s8rh15kn143b2zw160ckyhnw0000gn/T/ipykernel_3938/2456897106.py:10: PerformanceWarning: DataFrame is highly fragmented.  This is usually the result of calling `frame.insert` many times, which has poor performance.  Consider joining all columns at once using pd.concat(axis=1) instead. To get a de-fragmented frame, use `newframe = frame.copy()`\n",
      "  ratios_df[column] = df[\"X{}\".format(i+1)] / df[\"X{}\".format(j+1)]\n",
      "/var/folders/3r/s8rh15kn143b2zw160ckyhnw0000gn/T/ipykernel_3938/2456897106.py:10: PerformanceWarning: DataFrame is highly fragmented.  This is usually the result of calling `frame.insert` many times, which has poor performance.  Consider joining all columns at once using pd.concat(axis=1) instead. To get a de-fragmented frame, use `newframe = frame.copy()`\n",
      "  ratios_df[column] = df[\"X{}\".format(i+1)] / df[\"X{}\".format(j+1)]\n",
      "/var/folders/3r/s8rh15kn143b2zw160ckyhnw0000gn/T/ipykernel_3938/2456897106.py:10: PerformanceWarning: DataFrame is highly fragmented.  This is usually the result of calling `frame.insert` many times, which has poor performance.  Consider joining all columns at once using pd.concat(axis=1) instead. To get a de-fragmented frame, use `newframe = frame.copy()`\n",
      "  ratios_df[column] = df[\"X{}\".format(i+1)] / df[\"X{}\".format(j+1)]\n",
      "/var/folders/3r/s8rh15kn143b2zw160ckyhnw0000gn/T/ipykernel_3938/2456897106.py:10: PerformanceWarning: DataFrame is highly fragmented.  This is usually the result of calling `frame.insert` many times, which has poor performance.  Consider joining all columns at once using pd.concat(axis=1) instead. To get a de-fragmented frame, use `newframe = frame.copy()`\n",
      "  ratios_df[column] = df[\"X{}\".format(i+1)] / df[\"X{}\".format(j+1)]\n",
      "/var/folders/3r/s8rh15kn143b2zw160ckyhnw0000gn/T/ipykernel_3938/2456897106.py:10: PerformanceWarning: DataFrame is highly fragmented.  This is usually the result of calling `frame.insert` many times, which has poor performance.  Consider joining all columns at once using pd.concat(axis=1) instead. To get a de-fragmented frame, use `newframe = frame.copy()`\n",
      "  ratios_df[column] = df[\"X{}\".format(i+1)] / df[\"X{}\".format(j+1)]\n",
      "/var/folders/3r/s8rh15kn143b2zw160ckyhnw0000gn/T/ipykernel_3938/2456897106.py:10: PerformanceWarning: DataFrame is highly fragmented.  This is usually the result of calling `frame.insert` many times, which has poor performance.  Consider joining all columns at once using pd.concat(axis=1) instead. To get a de-fragmented frame, use `newframe = frame.copy()`\n",
      "  ratios_df[column] = df[\"X{}\".format(i+1)] / df[\"X{}\".format(j+1)]\n",
      "/var/folders/3r/s8rh15kn143b2zw160ckyhnw0000gn/T/ipykernel_3938/2456897106.py:10: PerformanceWarning: DataFrame is highly fragmented.  This is usually the result of calling `frame.insert` many times, which has poor performance.  Consider joining all columns at once using pd.concat(axis=1) instead. To get a de-fragmented frame, use `newframe = frame.copy()`\n",
      "  ratios_df[column] = df[\"X{}\".format(i+1)] / df[\"X{}\".format(j+1)]\n",
      "/var/folders/3r/s8rh15kn143b2zw160ckyhnw0000gn/T/ipykernel_3938/2456897106.py:10: PerformanceWarning: DataFrame is highly fragmented.  This is usually the result of calling `frame.insert` many times, which has poor performance.  Consider joining all columns at once using pd.concat(axis=1) instead. To get a de-fragmented frame, use `newframe = frame.copy()`\n",
      "  ratios_df[column] = df[\"X{}\".format(i+1)] / df[\"X{}\".format(j+1)]\n",
      "/var/folders/3r/s8rh15kn143b2zw160ckyhnw0000gn/T/ipykernel_3938/2456897106.py:10: PerformanceWarning: DataFrame is highly fragmented.  This is usually the result of calling `frame.insert` many times, which has poor performance.  Consider joining all columns at once using pd.concat(axis=1) instead. To get a de-fragmented frame, use `newframe = frame.copy()`\n",
      "  ratios_df[column] = df[\"X{}\".format(i+1)] / df[\"X{}\".format(j+1)]\n",
      "/var/folders/3r/s8rh15kn143b2zw160ckyhnw0000gn/T/ipykernel_3938/2456897106.py:10: PerformanceWarning: DataFrame is highly fragmented.  This is usually the result of calling `frame.insert` many times, which has poor performance.  Consider joining all columns at once using pd.concat(axis=1) instead. To get a de-fragmented frame, use `newframe = frame.copy()`\n",
      "  ratios_df[column] = df[\"X{}\".format(i+1)] / df[\"X{}\".format(j+1)]\n",
      "/var/folders/3r/s8rh15kn143b2zw160ckyhnw0000gn/T/ipykernel_3938/2456897106.py:10: PerformanceWarning: DataFrame is highly fragmented.  This is usually the result of calling `frame.insert` many times, which has poor performance.  Consider joining all columns at once using pd.concat(axis=1) instead. To get a de-fragmented frame, use `newframe = frame.copy()`\n",
      "  ratios_df[column] = df[\"X{}\".format(i+1)] / df[\"X{}\".format(j+1)]\n",
      "/var/folders/3r/s8rh15kn143b2zw160ckyhnw0000gn/T/ipykernel_3938/2456897106.py:10: PerformanceWarning: DataFrame is highly fragmented.  This is usually the result of calling `frame.insert` many times, which has poor performance.  Consider joining all columns at once using pd.concat(axis=1) instead. To get a de-fragmented frame, use `newframe = frame.copy()`\n",
      "  ratios_df[column] = df[\"X{}\".format(i+1)] / df[\"X{}\".format(j+1)]\n"
     ]
    }
   ],
   "source": [
    "def ratios_dataframe(df):\n",
    "    # convert the dataframe to ratios\n",
    "    ratios = array_to_label(np.ones(169)).reshape(-1)[:153]\n",
    "    ratios_df = pd.DataFrame()\n",
    "    for column in df.columns:\n",
    "        df[column] = df[column].replace(0, 1e-6)\n",
    "    for i in range(18):\n",
    "        for j in range(i+1, 18):\n",
    "            column = \"X{}/X{}\".format(i+1, j+1)\n",
    "            ratios_df[column] = df[\"X{}\".format(i+1)] / df[\"X{}\".format(j+1)]\n",
    "            ratios_df[column] = (ratios_df[column] - ratios_df[column].mean()) / ratios_df[column].std() + 128\n",
    "    return ratios_df\n",
    "\n",
    "df = df.drop(columns=['status_label'])\n",
    "ratios_df = ratios_dataframe(df)\n",
    "print(ratios_df.head())\n",
    "# print(ratios_df['X1/X2'].describe())"
   ]
  },
  {
   "cell_type": "code",
   "execution_count": 75,
   "metadata": {},
   "outputs": [
    {
     "name": "stdout",
     "output_type": "stream",
     "text": [
      "(13, 13)\n",
      "Start monte_carlo_simulation\n",
      "N ratios:  153\n",
      "Iteration: 100, Energy: 27626.230549390213\n",
      "Iteration: 200, Energy: 27626.230549390093\n",
      "Iteration: 300, Energy: 27626.23054939006\n",
      "Iteration: 400, Energy: 27626.23054939\n",
      "Iteration: 500, Energy: 27626.230549389966\n",
      "Iteration: 600, Energy: 27626.230549389915\n",
      "Iteration: 700, Energy: 27626.230549389926\n",
      "Iteration: 800, Energy: 27626.23054938989\n",
      "Iteration: 900, Energy: 27626.230549389864\n",
      "Iteration: 1000, Energy: 27626.230549389864\n",
      "Iteration: 1100, Energy: 27626.230549389875\n",
      "Iteration: 1200, Energy: 27626.23054938988\n",
      "Iteration: 1300, Energy: 27626.23054938984\n",
      "Iteration: 1400, Energy: 27626.230549389842\n",
      "Iteration: 1500, Energy: 27626.230549389835\n",
      "Iteration: 1600, Energy: 27626.230549389824\n",
      "Iteration: 1700, Energy: 27626.230549389824\n",
      "Iteration: 1800, Energy: 27626.230549389795\n",
      "Iteration: 1900, Energy: 27626.230549389787\n",
      "Iteration: 2000, Energy: 27626.230549389747\n",
      "Iteration: 2100, Energy: 27626.230549389747\n",
      "Iteration: 2200, Energy: 27626.230549389777\n",
      "Iteration: 2300, Energy: 27626.23054938977\n",
      "Iteration: 2400, Energy: 27626.2305493898\n",
      "Iteration: 2500, Energy: 27626.230549389806\n",
      "Iteration: 2600, Energy: 27626.23054938973\n",
      "Iteration: 2700, Energy: 27626.230549389707\n",
      "Iteration: 2800, Energy: 27626.230549389697\n",
      "Iteration: 2900, Energy: 27626.230549389707\n",
      "Iteration: 3000, Energy: 27626.23054938971\n",
      "Iteration: 3100, Energy: 27626.230549389686\n",
      "Iteration: 3200, Energy: 27626.230549389733\n",
      "Iteration: 3300, Energy: 27626.230549389707\n",
      "Iteration: 3400, Energy: 27626.23054938971\n",
      "Iteration: 3500, Energy: 27626.230549389682\n",
      "Iteration: 3600, Energy: 27626.23054938971\n",
      "Iteration: 3700, Energy: 27626.230549389675\n",
      "Iteration: 3800, Energy: 27626.230549389715\n",
      "Iteration: 3900, Energy: 27626.230549389686\n"
     ]
    }
   ],
   "source": [
    "labels = array_to_label(data)\n",
    "print(labels.shape)\n",
    "\n",
    "mc_agent = MCAgent(ratios_df, labels)\n",
    "new_labels, pixels = mc_agent.monte_carlo_simulation()\n"
   ]
  },
  {
   "cell_type": "code",
   "execution_count": 77,
   "metadata": {},
   "outputs": [],
   "source": [
    "def enlarge_image(image_array, new_size=(64, 64)):\n",
    "    \"\"\"\n",
    "    Enlarge an 13x13 image and a corresponding 13x13 dataframe to 64x64 using nearest neighbor method.\n",
    "\n",
    "    Args:\n",
    "    image_array (numpy.ndarray): An 13x13 numpy array representing the image.\n",
    "    new_size (tuple): New size for the image and dataframe, default is (64, 64).\n",
    "\n",
    "    Returns:\n",
    "    numpy array: a numpy array of the enlarged image\n",
    "    \"\"\"\n",
    "    if image_array.shape != (13, 13):\n",
    "        raise ValueError(\"Input image array and dataframe must be 13x13 in size.\")\n",
    "\n",
    "    # Enlarge the image array\n",
    "    image_pil = Image.fromarray(image_array)\n",
    "    enlarged_image_pil = image_pil.resize(new_size, Image.NEAREST)\n",
    "    enlarged_image_array = np.array(enlarged_image_pil)\n",
    "\n",
    "    return enlarged_image_array"
   ]
  },
  {
   "cell_type": "code",
   "execution_count": 78,
   "metadata": {},
   "outputs": [],
   "source": [
    "def rearrange_image(image, pixels):\n",
    "    image = image.reshape(-1)\n",
    "    new_image = np.zeros(image.size)\n",
    "    for i, pixel in enumerate(pixels):\n",
    "        new_image[i] = image[pixel]\n",
    "    return new_image.reshape(13, 13)"
   ]
  },
  {
   "cell_type": "code",
   "execution_count": 87,
   "metadata": {},
   "outputs": [
    {
     "data": {
      "image/png": "[encoded data removed]",
      "text/plain": [
       "<Figure size 800x800 with 4 Axes>"
      ]
     },
     "metadata": {},
     "output_type": "display_data"
    }
   ],
   "source": [
    "image_continue = array_to_image(data_continue)\n",
    "image_continue_1 = enlarge_image(image_continue)\n",
    "# fig1 = array_to_grayscale_image(enlarged_image)\n",
    "\n",
    "image_bankrupt = array_to_image(data_bankrupt)\n",
    "image_bankrupt_1 = enlarge_image(image_bankrupt)\n",
    "# fig2 = array_to_grayscale_image(enlarged_image)\n",
    "\n",
    "image_continue = rearrange_image(image_continue, pixels)\n",
    "image_continue_2 = enlarge_image(image_continue)\n",
    "# fig = array_to_grayscale_image(enlarged_image)\n",
    "\n",
    "image_bankrupt = rearrange_image(image_bankrupt, pixels)\n",
    "image_bankrupt_2 = enlarge_image(image_bankrupt)\n",
    "# fig = array_to_grayscale_image(enlarged_image)\n",
    "\n",
    "# Convert arrays to grayscale images\n",
    "image_continue_1 = plt.cm.gray(image_continue_1)\n",
    "image_continue_2 = plt.cm.gray(image_continue_2)\n",
    "image_bankrupt_1 = plt.cm.gray(image_bankrupt_1)\n",
    "image_bankrupt_2 = plt.cm.gray(image_bankrupt_2)\n",
    "\n",
    "# Create a (2, 2) subplot grid\n",
    "fig, axs = plt.subplots(2, 2, figsize=(8, 8))\n",
    "\n",
    "# Display the images in the subplots\n",
    "axs[0, 0].imshow(image_continue_1)\n",
    "axs[0, 0].set_title('Continue 1')\n",
    "\n",
    "axs[1, 0].imshow(image_continue_2)\n",
    "axs[1, 0].set_title('Continue 2')\n",
    "\n",
    "axs[0, 1].imshow(image_bankrupt_1)\n",
    "axs[0, 1].set_title('Bankrupt 1')\n",
    "\n",
    "axs[1, 1].imshow(image_bankrupt_2)\n",
    "axs[1, 1].set_title('Bankrupt 2')\n",
    "\n",
    "# Adjust layout\n",
    "plt.tight_layout()"
   ]
  },
  {
   "cell_type": "markdown",
   "metadata": {},
   "source": [
    "test for modified create_dataset()"
   ]
  },
  {
   "cell_type": "code",
   "execution_count": 2,
   "metadata": {},
   "outputs": [
    {
     "name": "stderr",
     "output_type": "stream",
     "text": [
      "100%|██████████| 8971/8971 [01:53<00:00, 79.05it/s] \n",
      "100%|██████████| 24221/24221 [00:18<00:00, 1286.66it/s]\n"
     ]
    }
   ],
   "source": [
    "from create_dataset import create_dataset\n",
    "\n",
    "DATAPATH = r'american_bankruptcy.csv'\n",
    "\n",
    "bankrupt_data = load_data(DATAPATH)\n",
    "dataset = create_dataset(bankrupt_data)"
   ]
  },
  {
   "cell_type": "code",
   "execution_count": null,
   "metadata": {},
   "outputs": [],
   "source": [
    "for i, (data, s) in enumerate(dataset[:5]):\n",
    "    print(\"i:{}, status: {}\".format(i, s))\n",
    "    fig = array_to_grayscale_image(data.reshape(64, 64))\n",
    "    plt.show()"
   ]
  },
  {
   "cell_type": "markdown",
   "metadata": {},
   "source": [
    "### Oversample the dataset (as we have an extremely unbalanced dataset)"
   ]
  },
  {
   "cell_type": "code",
   "execution_count": 6,
   "metadata": {},
   "outputs": [
    {
     "name": "stderr",
     "output_type": "stream",
     "text": [
      "100%|██████████| 8971/8971 [01:31<00:00, 98.46it/s] \n"
     ]
    }
   ],
   "source": [
    "DATAPATH = r'american_bankruptcy.csv'\n",
    "bankrupt_data = load_data(DATAPATH) # this load_data is the version before modification"
   ]
  },
  {
   "cell_type": "code",
   "execution_count": 14,
   "metadata": {},
   "outputs": [
    {
     "name": "stdout",
     "output_type": "stream",
     "text": [
      "Original dataset shape: %s Counter({1: 22453, 0: 1768})\n",
      "Resampled dataset shape %s Counter({1: 22453, 0: 22453})\n",
      "count    44906.000000\n",
      "mean         0.500000\n",
      "std          0.500006\n",
      "min          0.000000\n",
      "25%          0.000000\n",
      "50%          0.500000\n",
      "75%          1.000000\n",
      "max          1.000000\n",
      "Name: status_label, dtype: float64\n"
     ]
    }
   ],
   "source": [
    "from collections import Counter\n",
    "from imblearn.over_sampling import SMOTE\n",
    "\n",
    "X, y = bankrupt_data.drop(columns=['company_name', 'year', 'status_label']), bankrupt_data['status_label'] \n",
    "# print(X.head())\n",
    "print(\"Original dataset shape: %s\", Counter(y))\n",
    "\n",
    "sm = SMOTE(random_state=42)\n",
    "X_res, y_res = sm.fit_resample(X, y)\n",
    "print('Resampled dataset shape %s', Counter(y_res))\n",
    "\n",
    "X_res['status_label'] = y_res\n",
    "print(X_res['status_label'].describe())"
   ]
  }
 ],
 "metadata": {
  "kernelspec": {
   "display_name": "myenv",
   "language": "python",
   "name": "python3"
  },
  "language_info": {
   "codemirror_mode": {
    "name": "ipython",
    "version": 3
   },
   "file_extension": ".py",
   "mimetype": "text/x-python",
   "name": "python",
   "nbconvert_exporter": "python",
   "pygments_lexer": "ipython3",
   "version": "3.10.11"
  }
 },
 "nbformat": 4,
 "nbformat_minor": 2
}
